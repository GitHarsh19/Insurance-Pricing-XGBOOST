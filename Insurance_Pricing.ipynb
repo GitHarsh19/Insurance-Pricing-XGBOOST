{
  "cells": [
    {
      "cell_type": "code",
      "execution_count": null,
      "metadata": {
        "id": "eZX3DQJpXPpL"
      },
      "outputs": [],
      "source": [
        "import warnings\n",
        "warnings.filterwarnings('ignore')"
      ]
    },
    {
      "cell_type": "code",
      "execution_count": null,
      "metadata": {
        "id": "EvlyFh-qb8kY"
      },
      "outputs": [],
      "source": [
        "pip install category_encoders"
      ]
    },
    {
      "cell_type": "code",
      "execution_count": null,
      "metadata": {
        "id": "x4jHwXF0cRdV"
      },
      "outputs": [],
      "source": [
        "pip install scikit_optimize"
      ]
    },
    {
      "cell_type": "code",
      "execution_count": null,
      "metadata": {
        "id": "41MKVVw_XZaX"
      },
      "outputs": [],
      "source": [
        "import pandas as pd\n",
        "import numpy as np\n",
        "import plotly.express as px\n",
        "import sys\n",
        "from sklearn.model_selection import train_test_split\n",
        "from category_encoders import OneHotEncoder\n",
        "from sklearn.linear_model import LinearRegression\n",
        "import statsmodels.api as sm\n",
        "import math\n",
        "from xgboost import XGBRegressor\n",
        "from sklearn.pipeline import Pipeline\n",
        "from skopt import BayesSearchCV\n",
        "from skopt.space import Real, Categorical, Integer\n",
        "from sklearn.preprocessing import StandardScaler, PowerTransformer\n",
        "from sklearn.feature_selection import RFE"
      ]
    },
    {
      "cell_type": "code",
      "execution_count": null,
      "metadata": {
        "id": "xMdZE7JJk5OW"
      },
      "outputs": [],
      "source": [
        "sys.path.append('/content/drive/MyDrive/Colab Notebooks/DS_PRACTICE/ml_pipeline')"
      ]
    },
    {
      "cell_type": "code",
      "execution_count": null,
      "metadata": {
        "id": "lFFthiOKk5BS"
      },
      "outputs": [],
      "source": [
        "from eda import plot_histograms, plot_univariate_numeric, plot_univariate_categorical, plot_heatmap, plot_paired_boxplots, plot_paired_scatterplots, plot_residuals, plot_pearson_wrt_target\n",
        "from stats import chi2, anova\n",
        "from model_performance import calc_model_performance, compare_model_performance, calc_preds_in_residual_range, calc_preds_in_residual_perc_range\n",
        "from sklearn.metrics import mean_squared_error # Import mean_squared_error\n",
        "\n",
        "def calc_model_performance(y_true, y_pred):\n",
        "    results = {}\n",
        "    results['Root Mean Squared Error'] = mean_squared_error(\n",
        "        y_true, y_pred # Removed squared=False\n",
        "    )\n",
        "    results['Mean Absolute Error'] = mean_absolute_error(\n",
        "        y_true, y_pred\n",
        "    )\n",
        "    results['R-squared'] = r2_score(\n",
        "        y_true, y_pred\n",
        "    )\n",
        "    return pd.Series(results)\n",
        "\n",
        "# Assuming these functions also need to be defined or imported if they are not in model_performance.py\n",
        "from sklearn.metrics import mean_absolute_error, r2_score"
      ]
    },
    {
      "cell_type": "code",
      "execution_count": null,
      "metadata": {
        "id": "YcbCP17PXZUF"
      },
      "outputs": [],
      "source": [
        "data = pd.read_csv('/content/drive/MyDrive/Colab Notebooks/DS_PRACTICE/insurance.csv')"
      ]
    },
    {
      "cell_type": "code",
      "execution_count": null,
      "metadata": {
        "id": "0ETE93XqXZR8"
      },
      "outputs": [],
      "source": [
        "data.head()"
      ]
    },
    {
      "cell_type": "markdown",
      "metadata": {
        "id": "ima2Rc9TekLr"
      },
      "source": [
        "# To Get The Datatype of the Columns"
      ]
    },
    {
      "cell_type": "code",
      "execution_count": null,
      "metadata": {
        "id": "W8d7FmIwXZQ5"
      },
      "outputs": [],
      "source": [
        "data.info()"
      ]
    },
    {
      "cell_type": "code",
      "execution_count": null,
      "metadata": {
        "id": "dajUqpRAXZOd"
      },
      "outputs": [],
      "source": [
        "data.isnull().sum()"
      ]
    },
    {
      "cell_type": "markdown",
      "metadata": {
        "id": "CERvHIUte9vk"
      },
      "source": [
        "No Null values so  no need to Impute...\n",
        "The Target that we want to predict is the expenses column so Split the Dataset into --->\n",
        "1.) Feature (X)\n",
        "2.) Target (Y)"
      ]
    },
    {
      "cell_type": "code",
      "execution_count": null,
      "metadata": {
        "id": "W81wnQ50fJQD"
      },
      "outputs": [],
      "source": [
        "target  = 'charges'\n",
        "X=data.drop(target,axis=1)\n",
        "y=data[target]"
      ]
    },
    {
      "cell_type": "code",
      "execution_count": null,
      "metadata": {
        "colab": {
          "base_uri": "https://localhost:8080/"
        },
        "id": "3-Nyx3Vtebrb",
        "outputId": "c9407357-e92f-452f-cd1c-6aadee0da84c"
      },
      "outputs": [
        {
          "output_type": "execute_result",
          "data": {
            "text/plain": [
              "((1338, 6), (1338,))"
            ]
          },
          "metadata": {},
          "execution_count": 15
        }
      ],
      "source": [
        "X.shape, y.shape"
      ]
    },
    {
      "cell_type": "code",
      "execution_count": null,
      "metadata": {
        "id": "Ll3XF4yWebn8"
      },
      "outputs": [],
      "source": [
        "plot_histograms(X)"
      ]
    },
    {
      "cell_type": "code",
      "execution_count": null,
      "metadata": {
        "id": "5cFNoDXWeblR"
      },
      "outputs": [],
      "source": [
        "plot_histograms(pd.DataFrame(y), height=300)"
      ]
    },
    {
      "cell_type": "code",
      "execution_count": null,
      "metadata": {
        "id": "obj6J7nbebiy"
      },
      "outputs": [],
      "source": [
        "plot_univariate_numeric(\n",
        "    X.select_dtypes(include=np.number),\n",
        "    y\n",
        ")"
      ]
    },
    {
      "cell_type": "code",
      "execution_count": null,
      "metadata": {
        "id": "1DhWXI08ebgQ"
      },
      "outputs": [],
      "source": [
        "plot_univariate_categorical(\n",
        "    X[['sex', 'smoker', 'region', 'children']],\n",
        "    y\n",
        ")"
      ]
    },
    {
      "cell_type": "code",
      "execution_count": null,
      "metadata": {
        "id": "bHtmzCx5ebc2"
      },
      "outputs": [],
      "source": [
        "plot_heatmap(\n",
        "    X[['age', 'bmi', 'children']],\n",
        "    y,\n",
        "    bins=10\n",
        ")"
      ]
    },
    {
      "cell_type": "code",
      "execution_count": null,
      "metadata": {
        "id": "XfTs5o5aXZMo"
      },
      "outputs": [],
      "source": [
        "plot_paired_boxplots(\n",
        "    X[['sex', 'smoker', 'region']],\n",
        "    y\n",
        ")"
      ]
    },
    {
      "cell_type": "code",
      "execution_count": null,
      "metadata": {
        "id": "jepwpbzZpc-o"
      },
      "outputs": [],
      "source": [
        "plot_paired_scatterplots(X, y)"
      ]
    },
    {
      "cell_type": "code",
      "execution_count": null,
      "metadata": {
        "id": "OBBzTSmxpc7Q"
      },
      "outputs": [],
      "source": [
        "px.scatter_matrix(\n",
        "    X.select_dtypes(include=np.number)\n",
        ")"
      ]
    },
    {
      "cell_type": "code",
      "execution_count": null,
      "metadata": {
        "id": "CI5Vp2GPpc5F"
      },
      "outputs": [],
      "source": [
        "px.imshow(X.select_dtypes(include=np.number).corr())"
      ]
    },
    {
      "cell_type": "code",
      "execution_count": null,
      "metadata": {
        "id": "C1VKJ3P2pc3B"
      },
      "outputs": [],
      "source": [
        "X_chi2 = chi2(X.select_dtypes(object))"
      ]
    },
    {
      "cell_type": "code",
      "execution_count": null,
      "metadata": {
        "id": "7vQuz3xQpc0t"
      },
      "outputs": [],
      "source": [
        "X_chi2"
      ]
    },
    {
      "cell_type": "code",
      "execution_count": null,
      "metadata": {
        "id": "kY_qomRZpcyu"
      },
      "outputs": [],
      "source": [
        "X_chi2[X_chi2['p_value'] < 0.05]"
      ]
    },
    {
      "cell_type": "code",
      "execution_count": null,
      "metadata": {
        "id": "tzZrahiJpcws"
      },
      "outputs": [],
      "source": [
        "X_anova = anova(X)"
      ]
    },
    {
      "cell_type": "code",
      "execution_count": null,
      "metadata": {
        "id": "L1Vw8IyJpcuM"
      },
      "outputs": [],
      "source": [
        "X_anova"
      ]
    },
    {
      "cell_type": "code",
      "execution_count": null,
      "metadata": {
        "id": "OG9-n4YpvbxU"
      },
      "outputs": [],
      "source": [
        "X_anova[X_anova['p_value'] < 0.05]"
      ]
    },
    {
      "cell_type": "code",
      "execution_count": null,
      "metadata": {
        "id": "sOOaX_ePvbtz"
      },
      "outputs": [],
      "source": [
        "plot_pearson_wrt_target(X, y)"
      ]
    },
    {
      "cell_type": "code",
      "execution_count": null,
      "metadata": {
        "id": "qOQbaetvvbrq"
      },
      "outputs": [],
      "source": [
        "data_anova = anova(data)\n",
        "anova_wrt_target = data_anova[data_anova['num_column']=='charges']"
      ]
    },
    {
      "cell_type": "code",
      "execution_count": null,
      "metadata": {
        "id": "CXUlCnaEvbpM"
      },
      "outputs": [],
      "source": [
        "anova_wrt_target"
      ]
    },
    {
      "cell_type": "code",
      "source": [
        "X_train, X_test, y_train, y_test = train_test_split(\n",
        "    X,\n",
        "    y,\n",
        "    test_size=0.33,\n",
        "    random_state=42\n",
        ")"
      ],
      "metadata": {
        "id": "Q6nzo4xySavu"
      },
      "execution_count": null,
      "outputs": []
    },
    {
      "cell_type": "code",
      "execution_count": null,
      "metadata": {
        "id": "M4YQte4Nvbmq"
      },
      "outputs": [],
      "source": [
        "cols_to_drop = [\n",
        "    'children',\n",
        "    'region',\n",
        "    'sex'\n",
        "]\n",
        "X_train.drop(cols_to_drop, axis=1,inplace=True)\n",
        "X_test.drop(cols_to_drop, axis=1,inplace=True)"
      ]
    },
    {
      "cell_type": "code",
      "execution_count": null,
      "metadata": {
        "id": "Rbwe1jmovbkH"
      },
      "outputs": [],
      "source": [
        "ohe = OneHotEncoder(use_cat_names=True)\n",
        "X_train = ohe.fit_transform(X_train)\n",
        "X_test = ohe.transform(X_test)"
      ]
    },
    {
      "cell_type": "code",
      "execution_count": null,
      "metadata": {
        "id": "tV2Z37Vjvbhp"
      },
      "outputs": [],
      "source": [
        "cols_to_drop = ['smoker_no']\n",
        "X_train.drop(cols_to_drop, axis=1,inplace=True)\n",
        "X_test.drop(cols_to_drop,axis=1,inplace=True)\n"
      ]
    },
    {
      "cell_type": "code",
      "execution_count": null,
      "metadata": {
        "id": "_I_79bg5vbfQ"
      },
      "outputs": [],
      "source": [
        "pt = PowerTransformer(method='yeo-johnson')\n",
        "y_train_t = pt.fit_transform(y_train.values.reshape(-1,1))[:,0]\n",
        "y_test_t = pt.transform(y_test.values.reshape(-1,1))[:,0]"
      ]
    },
    {
      "cell_type": "code",
      "source": [
        "pd.Series(y_train_t).hist(figsize=(5, 3))\n",
        "pd.Series(y_test_t).hist(figsize=(5, 3))"
      ],
      "metadata": {
        "id": "F3Q4L3YtbfbR"
      },
      "execution_count": null,
      "outputs": []
    },
    {
      "cell_type": "markdown",
      "source": [
        "# Linear Regression Model Training ---->"
      ],
      "metadata": {
        "id": "uEtlGCEaejMV"
      }
    },
    {
      "cell_type": "code",
      "source": [
        "sample_weight = y_train/y_train.min()"
      ],
      "metadata": {
        "id": "0Eimy815eiEo"
      },
      "execution_count": null,
      "outputs": []
    },
    {
      "cell_type": "code",
      "source": [
        "lr = LinearRegression()\n",
        "lr.fit(\n",
        "    X_train,\n",
        "    y_train_t,\n",
        "    sample_weight=sample_weight\n",
        ")"
      ],
      "metadata": {
        "id": "M6HzS2DdeiBE"
      },
      "execution_count": null,
      "outputs": []
    },
    {
      "cell_type": "code",
      "source": [
        "y_pred_train = lr.predict(X_train)\n",
        "y_pred_test = lr.predict(X_test)"
      ],
      "metadata": {
        "id": "O0AQtVdqeh-A"
      },
      "execution_count": null,
      "outputs": []
    },
    {
      "cell_type": "code",
      "source": [
        "y_pred_train = pt.inverse_transform(y_pred_train.reshape(-1, 1))[:, 0]\n",
        "y_pred_test = pt.inverse_transform(y_pred_test.reshape(-1, 1))[:, 0]"
      ],
      "metadata": {
        "id": "nDTK8zn7eh7n"
      },
      "execution_count": null,
      "outputs": []
    },
    {
      "cell_type": "code",
      "source": [
        "base_perf_train = calc_model_performance(y_train, y_pred_train)"
      ],
      "metadata": {
        "id": "MtlQ_FAseh4-"
      },
      "execution_count": null,
      "outputs": []
    },
    {
      "cell_type": "code",
      "source": [
        "base_perf_train"
      ],
      "metadata": {
        "id": "zrCiEdu7gcSD"
      },
      "execution_count": null,
      "outputs": []
    },
    {
      "cell_type": "code",
      "source": [
        "base_perf_test = calc_model_performance(y_test, y_pred_test)"
      ],
      "metadata": {
        "id": "HgAtORMtgcOi"
      },
      "execution_count": null,
      "outputs": []
    },
    {
      "cell_type": "code",
      "source": [
        "base_perf_test"
      ],
      "metadata": {
        "id": "2XroVK8AgcL8"
      },
      "execution_count": null,
      "outputs": []
    },
    {
      "cell_type": "code",
      "source": [
        "residuals_train = y_train - y_pred_train\n",
        "residuals_test = y_test - y_pred_test"
      ],
      "metadata": {
        "id": "siVy0FDnNYKr"
      },
      "execution_count": null,
      "outputs": []
    },
    {
      "cell_type": "code",
      "source": [
        "fig = sm.qqplot(\n",
        "    residuals_train,\n",
        "    fit=True,\n",
        "    line='45'\n",
        ")"
      ],
      "metadata": {
        "id": "tWmE5ovKNYIU"
      },
      "execution_count": null,
      "outputs": []
    },
    {
      "cell_type": "code",
      "source": [
        "fig = sm.qqplot(\n",
        "    residuals_test,\n",
        "    fit=True,\n",
        "    line='45'\n",
        ")"
      ],
      "metadata": {
        "id": "oD2Hylo0NYF_"
      },
      "execution_count": null,
      "outputs": []
    },
    {
      "cell_type": "code",
      "source": [
        "plot_residuals(y_true=y_train, y_pred=y_pred_train)"
      ],
      "metadata": {
        "id": "kcznugK7NYDw"
      },
      "execution_count": null,
      "outputs": []
    },
    {
      "cell_type": "code",
      "source": [
        "px.scatter(x=y_train, y=residuals_train)"
      ],
      "metadata": {
        "id": "erhQaZkcgcJQ"
      },
      "execution_count": null,
      "outputs": []
    },
    {
      "cell_type": "code",
      "source": [
        "px.scatter(x=y_test, y=residuals_test)"
      ],
      "metadata": {
        "id": "LfBwUqoygcGg"
      },
      "execution_count": null,
      "outputs": []
    },
    {
      "cell_type": "markdown",
      "source": [
        "# **Non Linear Model**"
      ],
      "metadata": {
        "id": "GrfDSSlqV11b"
      }
    },
    {
      "cell_type": "markdown",
      "source": [
        "# **Data Pre-Processing**"
      ],
      "metadata": {
        "id": "kQklxRR_V8xL"
      }
    },
    {
      "cell_type": "markdown",
      "source": [],
      "metadata": {
        "id": "aE4iqNFUV1bY"
      }
    },
    {
      "cell_type": "code",
      "source": [
        "X_train, X_test, y_train, y_test = train_test_split(\n",
        "    X,\n",
        "    y,\n",
        "      test_size=0.33,\n",
        "      random_state=42\n",
        ")"
      ],
      "metadata": {
        "id": "lS_fa60FO4ni"
      },
      "execution_count": null,
      "outputs": []
    },
    {
      "cell_type": "code",
      "source": [
        "ohe = OneHotEncoder(use_cat_names=True)\n",
        "X_train = ohe.fit_transform(X_train)\n",
        "X_test = ohe.transform(X_test)"
      ],
      "metadata": {
        "id": "9KVVJQ_gO4kR"
      },
      "execution_count": null,
      "outputs": []
    },
    {
      "cell_type": "code",
      "source": [
        "rfe = RFE(estimator=XGBRegressor())\n",
        "xgb = XGBRegressor()"
      ],
      "metadata": {
        "id": "2uAgFF2pO4iL"
      },
      "execution_count": null,
      "outputs": []
    },
    {
      "cell_type": "code",
      "source": [
        "steps = [\n",
        "    ('rfe', rfe),\n",
        "    ('xgb', xgb)\n",
        "]"
      ],
      "metadata": {
        "id": "-QQa0cOgO4gG"
      },
      "execution_count": null,
      "outputs": []
    },
    {
      "cell_type": "code",
      "source": [
        "pipe = Pipeline(steps)"
      ],
      "metadata": {
        "id": "xR863iZHO4dw"
      },
      "execution_count": null,
      "outputs": []
    },
    {
      "cell_type": "code",
      "source": [
        "num_features = X_train.shape[1]\n",
        "search_spaces = {\n",
        "    'rfe__n_features_to_select' : Integer(1,num_features),\n",
        "    'xgb__n_estimators' : Integer(1,500),\n",
        "    'xgb__max_depth' : Integer(2,8),\n",
        "    'xgb__reg_lambda' : Integer(1,200),\n",
        "    'xgb__learning_rate' : Real(0,1),\n",
        "    'xgb__gamma' : Real(0,2000)\n",
        "}"
      ],
      "metadata": {
        "id": "QMn-UvuUZNbg"
      },
      "execution_count": null,
      "outputs": []
    },
    {
      "cell_type": "code",
      "source": [
        "xgb_bs_cv = BayesSearchCV(\n",
        "    estimator = pipe,\n",
        "    search_spaces = search_spaces,\n",
        "    scoring  = 'neg_root_mean_squared_error',\n",
        "    n_iter  = 75,\n",
        "    cv = 3,\n",
        "    n_jobs = -1,\n",
        "    verbose = 1,\n",
        "    random_state = 0\n",
        ")"
      ],
      "metadata": {
        "id": "uCEUJxLbZNYI"
      },
      "execution_count": null,
      "outputs": []
    },
    {
      "cell_type": "code",
      "source": [
        "xgb_bs_cv.fit(\n",
        "    X_train,\n",
        "    y_train\n",
        ")"
      ],
      "metadata": {
        "id": "mlfnt3sTZNVs"
      },
      "execution_count": null,
      "outputs": []
    },
    {
      "cell_type": "markdown",
      "source": [
        "# Model Evaluation"
      ],
      "metadata": {
        "id": "Z55ChrSC7L3S"
      }
    },
    {
      "cell_type": "code",
      "source": [
        "cv_results = pd.DataFrame(xgb_bs_cv.cv_results_).sort_values('rank_test_score')"
      ],
      "metadata": {
        "id": "BsZf_LwuZNQ1"
      },
      "execution_count": null,
      "outputs": []
    },
    {
      "cell_type": "code",
      "source": [
        "cv_results"
      ],
      "metadata": {
        "id": "d5gsagidZNOc"
      },
      "execution_count": null,
      "outputs": []
    },
    {
      "cell_type": "code",
      "source": [
        "y_pred_train_xgb = xgb_bs_cv.predict(X_train)\n",
        "y_pred_test_xgb = xgb_bs_cv.predict(X_test)"
      ],
      "metadata": {
        "id": "3S2SNz0U8TFh"
      },
      "execution_count": null,
      "outputs": []
    },
    {
      "cell_type": "code",
      "source": [
        "xgb_perf_train = calc_model_performance(y_train, y_pred_train_xgb)"
      ],
      "metadata": {
        "id": "7KjgQwpF8TCt"
      },
      "execution_count": null,
      "outputs": []
    },
    {
      "cell_type": "code",
      "source": [
        "xgb_perf_train"
      ],
      "metadata": {
        "id": "fa7ai8yl8S_q"
      },
      "execution_count": null,
      "outputs": []
    },
    {
      "cell_type": "code",
      "source": [
        "xgb_perf_test = calc_model_performance(y_test, y_pred_test_xgb)"
      ],
      "metadata": {
        "id": "qRETjhoS8S9A"
      },
      "execution_count": null,
      "outputs": []
    },
    {
      "cell_type": "code",
      "source": [
        "xgb_perf_test"
      ],
      "metadata": {
        "id": "-hbxXfb58S6f"
      },
      "execution_count": null,
      "outputs": []
    },
    {
      "cell_type": "code",
      "source": [
        "perf_comp_train = compare_model_performance(base_perf_train, xgb_perf_train)\n",
        "perf_comp_test = compare_model_performance(base_perf_test,xgb_perf_test)"
      ],
      "metadata": {
        "id": "P2OfKhqe8S4J"
      },
      "execution_count": null,
      "outputs": []
    },
    {
      "cell_type": "code",
      "source": [
        "perf_comp_train"
      ],
      "metadata": {
        "id": "IiDuquUJ80WA"
      },
      "execution_count": null,
      "outputs": []
    },
    {
      "cell_type": "code",
      "source": [
        "perf_comp_test"
      ],
      "metadata": {
        "id": "TfZVl51-80TA"
      },
      "execution_count": null,
      "outputs": []
    },
    {
      "cell_type": "code",
      "source": [
        "calc_preds_in_residual_range(\n",
        "    y_true=y_test,\n",
        "    y_pred=y_pred_test_xgb,\n",
        "    range_=2000\n",
        ")"
      ],
      "metadata": {
        "id": "O0STiCFe80QF"
      },
      "execution_count": null,
      "outputs": []
    },
    {
      "cell_type": "code",
      "source": [
        "calc_preds_in_residual_perc_range(\n",
        "    y_true=y_test,\n",
        "    y_pred=y_pred_test_xgb,\n",
        "    perc_range=20\n",
        ")"
      ],
      "metadata": {
        "id": "kRHpjN-t9T1F"
      },
      "execution_count": null,
      "outputs": []
    }
  ],
  "metadata": {
    "colab": {
      "provenance": []
    },
    "kernelspec": {
      "display_name": "Python 3",
      "name": "python3"
    },
    "language_info": {
      "name": "python"
    }
  },
  "nbformat": 4,
  "nbformat_minor": 0
}